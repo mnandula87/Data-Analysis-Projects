{
 "cells": [
  {
   "cell_type": "markdown",
   "metadata": {},
   "source": [
    "# Task#1: Sample Superstore EDA"
   ]
  },
  {
   "cell_type": "markdown",
   "metadata": {},
   "source": [
    "This is a dataset of a superstore in the USA and its sales information."
   ]
  },
  {
   "cell_type": "code",
   "execution_count": 1,
   "metadata": {},
   "outputs": [],
   "source": [
    "import pandas as pd"
   ]
  },
  {
   "cell_type": "code",
   "execution_count": 2,
   "metadata": {
    "scrolled": true
   },
   "outputs": [
    {
     "data": {
      "text/html": [
       "<div>\n",
       "<style scoped>\n",
       "    .dataframe tbody tr th:only-of-type {\n",
       "        vertical-align: middle;\n",
       "    }\n",
       "\n",
       "    .dataframe tbody tr th {\n",
       "        vertical-align: top;\n",
       "    }\n",
       "\n",
       "    .dataframe thead th {\n",
       "        text-align: right;\n",
       "    }\n",
       "</style>\n",
       "<table border=\"1\" class=\"dataframe\">\n",
       "  <thead>\n",
       "    <tr style=\"text-align: right;\">\n",
       "      <th></th>\n",
       "      <th>Ship Mode</th>\n",
       "      <th>Segment</th>\n",
       "      <th>Country</th>\n",
       "      <th>City</th>\n",
       "      <th>State</th>\n",
       "      <th>Postal Code</th>\n",
       "      <th>Region</th>\n",
       "      <th>Category</th>\n",
       "      <th>Sub-Category</th>\n",
       "      <th>Sales</th>\n",
       "      <th>Quantity</th>\n",
       "      <th>Discount</th>\n",
       "      <th>Profit</th>\n",
       "    </tr>\n",
       "  </thead>\n",
       "  <tbody>\n",
       "    <tr>\n",
       "      <th>0</th>\n",
       "      <td>Second Class</td>\n",
       "      <td>Consumer</td>\n",
       "      <td>United States</td>\n",
       "      <td>Henderson</td>\n",
       "      <td>Kentucky</td>\n",
       "      <td>42420</td>\n",
       "      <td>South</td>\n",
       "      <td>Furniture</td>\n",
       "      <td>Bookcases</td>\n",
       "      <td>261.9600</td>\n",
       "      <td>2</td>\n",
       "      <td>0.00</td>\n",
       "      <td>41.9136</td>\n",
       "    </tr>\n",
       "    <tr>\n",
       "      <th>1</th>\n",
       "      <td>Second Class</td>\n",
       "      <td>Consumer</td>\n",
       "      <td>United States</td>\n",
       "      <td>Henderson</td>\n",
       "      <td>Kentucky</td>\n",
       "      <td>42420</td>\n",
       "      <td>South</td>\n",
       "      <td>Furniture</td>\n",
       "      <td>Chairs</td>\n",
       "      <td>731.9400</td>\n",
       "      <td>3</td>\n",
       "      <td>0.00</td>\n",
       "      <td>219.5820</td>\n",
       "    </tr>\n",
       "    <tr>\n",
       "      <th>2</th>\n",
       "      <td>Second Class</td>\n",
       "      <td>Corporate</td>\n",
       "      <td>United States</td>\n",
       "      <td>Los Angeles</td>\n",
       "      <td>California</td>\n",
       "      <td>90036</td>\n",
       "      <td>West</td>\n",
       "      <td>Office Supplies</td>\n",
       "      <td>Labels</td>\n",
       "      <td>14.6200</td>\n",
       "      <td>2</td>\n",
       "      <td>0.00</td>\n",
       "      <td>6.8714</td>\n",
       "    </tr>\n",
       "    <tr>\n",
       "      <th>3</th>\n",
       "      <td>Standard Class</td>\n",
       "      <td>Consumer</td>\n",
       "      <td>United States</td>\n",
       "      <td>Fort Lauderdale</td>\n",
       "      <td>Florida</td>\n",
       "      <td>33311</td>\n",
       "      <td>South</td>\n",
       "      <td>Furniture</td>\n",
       "      <td>Tables</td>\n",
       "      <td>957.5775</td>\n",
       "      <td>5</td>\n",
       "      <td>0.45</td>\n",
       "      <td>-383.0310</td>\n",
       "    </tr>\n",
       "    <tr>\n",
       "      <th>4</th>\n",
       "      <td>Standard Class</td>\n",
       "      <td>Consumer</td>\n",
       "      <td>United States</td>\n",
       "      <td>Fort Lauderdale</td>\n",
       "      <td>Florida</td>\n",
       "      <td>33311</td>\n",
       "      <td>South</td>\n",
       "      <td>Office Supplies</td>\n",
       "      <td>Storage</td>\n",
       "      <td>22.3680</td>\n",
       "      <td>2</td>\n",
       "      <td>0.20</td>\n",
       "      <td>2.5164</td>\n",
       "    </tr>\n",
       "  </tbody>\n",
       "</table>\n",
       "</div>"
      ],
      "text/plain": [
       "        Ship Mode    Segment        Country             City       State  \\\n",
       "0    Second Class   Consumer  United States        Henderson    Kentucky   \n",
       "1    Second Class   Consumer  United States        Henderson    Kentucky   \n",
       "2    Second Class  Corporate  United States      Los Angeles  California   \n",
       "3  Standard Class   Consumer  United States  Fort Lauderdale     Florida   \n",
       "4  Standard Class   Consumer  United States  Fort Lauderdale     Florida   \n",
       "\n",
       "   Postal Code Region         Category Sub-Category     Sales  Quantity  \\\n",
       "0        42420  South        Furniture    Bookcases  261.9600         2   \n",
       "1        42420  South        Furniture       Chairs  731.9400         3   \n",
       "2        90036   West  Office Supplies       Labels   14.6200         2   \n",
       "3        33311  South        Furniture       Tables  957.5775         5   \n",
       "4        33311  South  Office Supplies      Storage   22.3680         2   \n",
       "\n",
       "   Discount    Profit  \n",
       "0      0.00   41.9136  \n",
       "1      0.00  219.5820  \n",
       "2      0.00    6.8714  \n",
       "3      0.45 -383.0310  \n",
       "4      0.20    2.5164  "
      ]
     },
     "execution_count": 2,
     "metadata": {},
     "output_type": "execute_result"
    }
   ],
   "source": [
    "df = pd.read_csv('SampleSuperstore.csv')\n",
    "df.head()"
   ]
  },
  {
   "cell_type": "code",
   "execution_count": 3,
   "metadata": {},
   "outputs": [
    {
     "data": {
      "text/plain": [
       "array(['United States'], dtype=object)"
      ]
     },
     "execution_count": 3,
     "metadata": {},
     "output_type": "execute_result"
    }
   ],
   "source": [
    "df['Country'].unique()"
   ]
  },
  {
   "cell_type": "markdown",
   "metadata": {},
   "source": [
    "Droppring the columns Country, Postal Code since this dataset entirely contains USA stores info."
   ]
  },
  {
   "cell_type": "code",
   "execution_count": 4,
   "metadata": {},
   "outputs": [
    {
     "data": {
      "text/html": [
       "<div>\n",
       "<style scoped>\n",
       "    .dataframe tbody tr th:only-of-type {\n",
       "        vertical-align: middle;\n",
       "    }\n",
       "\n",
       "    .dataframe tbody tr th {\n",
       "        vertical-align: top;\n",
       "    }\n",
       "\n",
       "    .dataframe thead th {\n",
       "        text-align: right;\n",
       "    }\n",
       "</style>\n",
       "<table border=\"1\" class=\"dataframe\">\n",
       "  <thead>\n",
       "    <tr style=\"text-align: right;\">\n",
       "      <th></th>\n",
       "      <th>Ship Mode</th>\n",
       "      <th>Segment</th>\n",
       "      <th>City</th>\n",
       "      <th>State</th>\n",
       "      <th>Region</th>\n",
       "      <th>Category</th>\n",
       "      <th>Sub-Category</th>\n",
       "      <th>Sales</th>\n",
       "      <th>Quantity</th>\n",
       "      <th>Discount</th>\n",
       "      <th>Profit</th>\n",
       "    </tr>\n",
       "  </thead>\n",
       "  <tbody>\n",
       "    <tr>\n",
       "      <th>0</th>\n",
       "      <td>Second Class</td>\n",
       "      <td>Consumer</td>\n",
       "      <td>Henderson</td>\n",
       "      <td>Kentucky</td>\n",
       "      <td>South</td>\n",
       "      <td>Furniture</td>\n",
       "      <td>Bookcases</td>\n",
       "      <td>261.9600</td>\n",
       "      <td>2</td>\n",
       "      <td>0.00</td>\n",
       "      <td>41.9136</td>\n",
       "    </tr>\n",
       "    <tr>\n",
       "      <th>1</th>\n",
       "      <td>Second Class</td>\n",
       "      <td>Consumer</td>\n",
       "      <td>Henderson</td>\n",
       "      <td>Kentucky</td>\n",
       "      <td>South</td>\n",
       "      <td>Furniture</td>\n",
       "      <td>Chairs</td>\n",
       "      <td>731.9400</td>\n",
       "      <td>3</td>\n",
       "      <td>0.00</td>\n",
       "      <td>219.5820</td>\n",
       "    </tr>\n",
       "    <tr>\n",
       "      <th>2</th>\n",
       "      <td>Second Class</td>\n",
       "      <td>Corporate</td>\n",
       "      <td>Los Angeles</td>\n",
       "      <td>California</td>\n",
       "      <td>West</td>\n",
       "      <td>Office Supplies</td>\n",
       "      <td>Labels</td>\n",
       "      <td>14.6200</td>\n",
       "      <td>2</td>\n",
       "      <td>0.00</td>\n",
       "      <td>6.8714</td>\n",
       "    </tr>\n",
       "    <tr>\n",
       "      <th>3</th>\n",
       "      <td>Standard Class</td>\n",
       "      <td>Consumer</td>\n",
       "      <td>Fort Lauderdale</td>\n",
       "      <td>Florida</td>\n",
       "      <td>South</td>\n",
       "      <td>Furniture</td>\n",
       "      <td>Tables</td>\n",
       "      <td>957.5775</td>\n",
       "      <td>5</td>\n",
       "      <td>0.45</td>\n",
       "      <td>-383.0310</td>\n",
       "    </tr>\n",
       "    <tr>\n",
       "      <th>4</th>\n",
       "      <td>Standard Class</td>\n",
       "      <td>Consumer</td>\n",
       "      <td>Fort Lauderdale</td>\n",
       "      <td>Florida</td>\n",
       "      <td>South</td>\n",
       "      <td>Office Supplies</td>\n",
       "      <td>Storage</td>\n",
       "      <td>22.3680</td>\n",
       "      <td>2</td>\n",
       "      <td>0.20</td>\n",
       "      <td>2.5164</td>\n",
       "    </tr>\n",
       "    <tr>\n",
       "      <th>...</th>\n",
       "      <td>...</td>\n",
       "      <td>...</td>\n",
       "      <td>...</td>\n",
       "      <td>...</td>\n",
       "      <td>...</td>\n",
       "      <td>...</td>\n",
       "      <td>...</td>\n",
       "      <td>...</td>\n",
       "      <td>...</td>\n",
       "      <td>...</td>\n",
       "      <td>...</td>\n",
       "    </tr>\n",
       "    <tr>\n",
       "      <th>9989</th>\n",
       "      <td>Second Class</td>\n",
       "      <td>Consumer</td>\n",
       "      <td>Miami</td>\n",
       "      <td>Florida</td>\n",
       "      <td>South</td>\n",
       "      <td>Furniture</td>\n",
       "      <td>Furnishings</td>\n",
       "      <td>25.2480</td>\n",
       "      <td>3</td>\n",
       "      <td>0.20</td>\n",
       "      <td>4.1028</td>\n",
       "    </tr>\n",
       "    <tr>\n",
       "      <th>9990</th>\n",
       "      <td>Standard Class</td>\n",
       "      <td>Consumer</td>\n",
       "      <td>Costa Mesa</td>\n",
       "      <td>California</td>\n",
       "      <td>West</td>\n",
       "      <td>Furniture</td>\n",
       "      <td>Furnishings</td>\n",
       "      <td>91.9600</td>\n",
       "      <td>2</td>\n",
       "      <td>0.00</td>\n",
       "      <td>15.6332</td>\n",
       "    </tr>\n",
       "    <tr>\n",
       "      <th>9991</th>\n",
       "      <td>Standard Class</td>\n",
       "      <td>Consumer</td>\n",
       "      <td>Costa Mesa</td>\n",
       "      <td>California</td>\n",
       "      <td>West</td>\n",
       "      <td>Technology</td>\n",
       "      <td>Phones</td>\n",
       "      <td>258.5760</td>\n",
       "      <td>2</td>\n",
       "      <td>0.20</td>\n",
       "      <td>19.3932</td>\n",
       "    </tr>\n",
       "    <tr>\n",
       "      <th>9992</th>\n",
       "      <td>Standard Class</td>\n",
       "      <td>Consumer</td>\n",
       "      <td>Costa Mesa</td>\n",
       "      <td>California</td>\n",
       "      <td>West</td>\n",
       "      <td>Office Supplies</td>\n",
       "      <td>Paper</td>\n",
       "      <td>29.6000</td>\n",
       "      <td>4</td>\n",
       "      <td>0.00</td>\n",
       "      <td>13.3200</td>\n",
       "    </tr>\n",
       "    <tr>\n",
       "      <th>9993</th>\n",
       "      <td>Second Class</td>\n",
       "      <td>Consumer</td>\n",
       "      <td>Westminster</td>\n",
       "      <td>California</td>\n",
       "      <td>West</td>\n",
       "      <td>Office Supplies</td>\n",
       "      <td>Appliances</td>\n",
       "      <td>243.1600</td>\n",
       "      <td>2</td>\n",
       "      <td>0.00</td>\n",
       "      <td>72.9480</td>\n",
       "    </tr>\n",
       "  </tbody>\n",
       "</table>\n",
       "<p>9994 rows × 11 columns</p>\n",
       "</div>"
      ],
      "text/plain": [
       "           Ship Mode    Segment             City       State Region  \\\n",
       "0       Second Class   Consumer        Henderson    Kentucky  South   \n",
       "1       Second Class   Consumer        Henderson    Kentucky  South   \n",
       "2       Second Class  Corporate      Los Angeles  California   West   \n",
       "3     Standard Class   Consumer  Fort Lauderdale     Florida  South   \n",
       "4     Standard Class   Consumer  Fort Lauderdale     Florida  South   \n",
       "...              ...        ...              ...         ...    ...   \n",
       "9989    Second Class   Consumer            Miami     Florida  South   \n",
       "9990  Standard Class   Consumer       Costa Mesa  California   West   \n",
       "9991  Standard Class   Consumer       Costa Mesa  California   West   \n",
       "9992  Standard Class   Consumer       Costa Mesa  California   West   \n",
       "9993    Second Class   Consumer      Westminster  California   West   \n",
       "\n",
       "             Category Sub-Category     Sales  Quantity  Discount    Profit  \n",
       "0           Furniture    Bookcases  261.9600         2      0.00   41.9136  \n",
       "1           Furniture       Chairs  731.9400         3      0.00  219.5820  \n",
       "2     Office Supplies       Labels   14.6200         2      0.00    6.8714  \n",
       "3           Furniture       Tables  957.5775         5      0.45 -383.0310  \n",
       "4     Office Supplies      Storage   22.3680         2      0.20    2.5164  \n",
       "...               ...          ...       ...       ...       ...       ...  \n",
       "9989        Furniture  Furnishings   25.2480         3      0.20    4.1028  \n",
       "9990        Furniture  Furnishings   91.9600         2      0.00   15.6332  \n",
       "9991       Technology       Phones  258.5760         2      0.20   19.3932  \n",
       "9992  Office Supplies        Paper   29.6000         4      0.00   13.3200  \n",
       "9993  Office Supplies   Appliances  243.1600         2      0.00   72.9480  \n",
       "\n",
       "[9994 rows x 11 columns]"
      ]
     },
     "execution_count": 4,
     "metadata": {},
     "output_type": "execute_result"
    }
   ],
   "source": [
    "##Dropping Country and Postal Code columns\n",
    "df.drop(columns=['Postal Code','Country'], axis=1, inplace=True)\n",
    "df"
   ]
  },
  {
   "cell_type": "code",
   "execution_count": 5,
   "metadata": {},
   "outputs": [
    {
     "name": "stdout",
     "output_type": "stream",
     "text": [
      "State\n",
      "Alabama                  19510.6400\n",
      "Arizona                  35282.0010\n",
      "Arkansas                 11678.1300\n",
      "California              457687.6315\n",
      "Colorado                 32108.1180\n",
      "Connecticut              13384.3570\n",
      "Delaware                 27451.0690\n",
      "District of Columbia      2865.0200\n",
      "Florida                  89473.7080\n",
      "Georgia                  49095.8400\n",
      "Idaho                     4382.4860\n",
      "Illinois                 80166.1010\n",
      "Indiana                  53555.3600\n",
      "Iowa                      4579.7600\n",
      "Kansas                    2914.3100\n",
      "Kentucky                 36591.7500\n",
      "Louisiana                 9217.0300\n",
      "Maine                     1270.5300\n",
      "Maryland                 23705.5230\n",
      "Massachusetts            28634.4340\n",
      "Michigan                 76269.6140\n",
      "Minnesota                29863.1500\n",
      "Mississippi              10771.3400\n",
      "Missouri                 22205.1500\n",
      "Montana                   5589.3520\n",
      "Nebraska                  7464.9300\n",
      "Nevada                   16729.1020\n",
      "New Hampshire             7292.5240\n",
      "New Jersey               35764.3120\n",
      "New Mexico                4783.5220\n",
      "New York                310876.2710\n",
      "North Carolina           55603.1640\n",
      "North Dakota               919.9100\n",
      "Ohio                     78258.1360\n",
      "Oklahoma                 19683.3900\n",
      "Oregon                   17431.1500\n",
      "Pennsylvania            116511.9140\n",
      "Rhode Island             22627.9560\n",
      "South Carolina            8481.7100\n",
      "South Dakota              1315.5600\n",
      "Tennessee                30661.8730\n",
      "Texas                   170188.0458\n",
      "Utah                     11220.0560\n",
      "Vermont                   8929.3700\n",
      "Virginia                 70636.7200\n",
      "Washington              138641.2700\n",
      "West Virginia             1209.8240\n",
      "Wisconsin                32114.6100\n",
      "Wyoming                   1603.1360\n",
      "Name: Sales, dtype: float64\n"
     ]
    }
   ],
   "source": [
    "#We will get the total sales across each state\n",
    "States_sales_df = df.groupby('State')['Sales'].sum()\n",
    "print(States_sales_df)"
   ]
  },
  {
   "cell_type": "markdown",
   "metadata": {},
   "source": [
    "# What is the average sales in the stores across all the 49 states? "
   ]
  },
  {
   "cell_type": "code",
   "execution_count": 6,
   "metadata": {},
   "outputs": [
    {
     "data": {
      "text/plain": [
       "count        49.000000\n",
       "mean      46881.650210\n",
       "std       80776.294534\n",
       "min         919.910000\n",
       "25%        7464.930000\n",
       "50%       22205.150000\n",
       "75%       49095.840000\n",
       "max      457687.631500\n",
       "Name: Sales, dtype: float64"
      ]
     },
     "execution_count": 6,
     "metadata": {},
     "output_type": "execute_result"
    }
   ],
   "source": [
    "States_sales_df.describe() #--->This gives the statistics of the dataset. The average sales of the dataset is 46881"
   ]
  },
  {
   "cell_type": "markdown",
   "metadata": {},
   "source": [
    "# How many states have sales above the average sales of the superstore across all the states?"
   ]
  },
  {
   "cell_type": "code",
   "execution_count": 7,
   "metadata": {},
   "outputs": [
    {
     "name": "stdout",
     "output_type": "stream",
     "text": [
      "There are 13 states that has sales above the average of the total sales\n"
     ]
    }
   ],
   "source": [
    "avg_states_sales = States_sales_df[States_sales_df >=46881]\n",
    "x = avg_states_sales.count()\n",
    "print(f'There are {x} states that has sales above the average of the total sales')"
   ]
  },
  {
   "cell_type": "markdown",
   "metadata": {},
   "source": [
    "# How many states have sales below the average sales of the superstore across all the states?"
   ]
  },
  {
   "cell_type": "code",
   "execution_count": 8,
   "metadata": {},
   "outputs": [
    {
     "name": "stdout",
     "output_type": "stream",
     "text": [
      "There are 36 states that has sales below the average of the total sales\n"
     ]
    }
   ],
   "source": [
    "below_avg_states_sales = States_sales_df[States_sales_df <=46881]\n",
    "y=below_avg_states_sales.count()\n",
    "print(f'There are {y} states that has sales below the average of the total sales')"
   ]
  },
  {
   "cell_type": "code",
   "execution_count": 9,
   "metadata": {},
   "outputs": [
    {
     "data": {
      "text/plain": [
       "State\n",
       "Alabama                 19510.640\n",
       "Arizona                 35282.001\n",
       "Arkansas                11678.130\n",
       "Colorado                32108.118\n",
       "Connecticut             13384.357\n",
       "Delaware                27451.069\n",
       "District of Columbia     2865.020\n",
       "Idaho                    4382.486\n",
       "Iowa                     4579.760\n",
       "Kansas                   2914.310\n",
       "Kentucky                36591.750\n",
       "Louisiana                9217.030\n",
       "Maine                    1270.530\n",
       "Maryland                23705.523\n",
       "Massachusetts           28634.434\n",
       "Minnesota               29863.150\n",
       "Mississippi             10771.340\n",
       "Missouri                22205.150\n",
       "Montana                  5589.352\n",
       "Nebraska                 7464.930\n",
       "Nevada                  16729.102\n",
       "New Hampshire            7292.524\n",
       "New Jersey              35764.312\n",
       "New Mexico               4783.522\n",
       "North Dakota              919.910\n",
       "Oklahoma                19683.390\n",
       "Oregon                  17431.150\n",
       "Rhode Island            22627.956\n",
       "South Carolina           8481.710\n",
       "South Dakota             1315.560\n",
       "Tennessee               30661.873\n",
       "Utah                    11220.056\n",
       "Vermont                  8929.370\n",
       "West Virginia            1209.824\n",
       "Wisconsin               32114.610\n",
       "Wyoming                  1603.136\n",
       "Name: Sales, dtype: float64"
      ]
     },
     "execution_count": 9,
     "metadata": {},
     "output_type": "execute_result"
    }
   ],
   "source": [
    "#These are the 36 states that the manager needs to focus to increase the sales in these states\n",
    "below_avg_states_sales"
   ]
  },
  {
   "cell_type": "code",
   "execution_count": 10,
   "metadata": {},
   "outputs": [
    {
     "data": {
      "text/plain": [
       "State\n",
       "California              457687.6315\n",
       "New York                310876.2710\n",
       "Texas                   170188.0458\n",
       "Washington              138641.2700\n",
       "Pennsylvania            116511.9140\n",
       "Florida                  89473.7080\n",
       "Illinois                 80166.1010\n",
       "Ohio                     78258.1360\n",
       "Michigan                 76269.6140\n",
       "Virginia                 70636.7200\n",
       "North Carolina           55603.1640\n",
       "Indiana                  53555.3600\n",
       "Georgia                  49095.8400\n",
       "Kentucky                 36591.7500\n",
       "New Jersey               35764.3120\n",
       "Arizona                  35282.0010\n",
       "Wisconsin                32114.6100\n",
       "Colorado                 32108.1180\n",
       "Tennessee                30661.8730\n",
       "Minnesota                29863.1500\n",
       "Massachusetts            28634.4340\n",
       "Delaware                 27451.0690\n",
       "Maryland                 23705.5230\n",
       "Rhode Island             22627.9560\n",
       "Missouri                 22205.1500\n",
       "Oklahoma                 19683.3900\n",
       "Alabama                  19510.6400\n",
       "Oregon                   17431.1500\n",
       "Nevada                   16729.1020\n",
       "Connecticut              13384.3570\n",
       "Arkansas                 11678.1300\n",
       "Utah                     11220.0560\n",
       "Mississippi              10771.3400\n",
       "Louisiana                 9217.0300\n",
       "Vermont                   8929.3700\n",
       "South Carolina            8481.7100\n",
       "Nebraska                  7464.9300\n",
       "New Hampshire             7292.5240\n",
       "Montana                   5589.3520\n",
       "New Mexico                4783.5220\n",
       "Iowa                      4579.7600\n",
       "Idaho                     4382.4860\n",
       "Kansas                    2914.3100\n",
       "District of Columbia      2865.0200\n",
       "Wyoming                   1603.1360\n",
       "South Dakota              1315.5600\n",
       "Maine                     1270.5300\n",
       "West Virginia             1209.8240\n",
       "North Dakota               919.9100\n",
       "Name: Sales, dtype: float64"
      ]
     },
     "execution_count": 10,
     "metadata": {},
     "output_type": "execute_result"
    }
   ],
   "source": [
    "## We will sort the states sales as per descending order\n",
    "States_sales_df.sort_values(ascending=False)"
   ]
  },
  {
   "cell_type": "markdown",
   "metadata": {},
   "source": [
    "# What are the top 5 best performing states in terms of sales?"
   ]
  },
  {
   "cell_type": "code",
   "execution_count": 11,
   "metadata": {},
   "outputs": [
    {
     "name": "stdout",
     "output_type": "stream",
     "text": [
      "State\n",
      "California      457687.6315\n",
      "New York        310876.2710\n",
      "Texas           170188.0458\n",
      "Washington      138641.2700\n",
      "Pennsylvania    116511.9140\n",
      "Name: Sales, dtype: float64\n"
     ]
    }
   ],
   "source": [
    "a = States_sales_df.sort_values(ascending=False)[:5]\n",
    "print(a)"
   ]
  },
  {
   "cell_type": "code",
   "execution_count": 12,
   "metadata": {},
   "outputs": [],
   "source": [
    "##Top 5 states in terms of highest sales in the superstore are California, NY, Texas, Washington, Pennsylvania"
   ]
  },
  {
   "cell_type": "markdown",
   "metadata": {},
   "source": [
    "# What are the least performing 10 states in terms of sales in the superstore?"
   ]
  },
  {
   "cell_type": "code",
   "execution_count": 13,
   "metadata": {},
   "outputs": [
    {
     "name": "stdout",
     "output_type": "stream",
     "text": [
      "State\n",
      "New Mexico              4783.522\n",
      "Iowa                    4579.760\n",
      "Idaho                   4382.486\n",
      "Kansas                  2914.310\n",
      "District of Columbia    2865.020\n",
      "Wyoming                 1603.136\n",
      "South Dakota            1315.560\n",
      "Maine                   1270.530\n",
      "West Virginia           1209.824\n",
      "North Dakota             919.910\n",
      "Name: Sales, dtype: float64\n"
     ]
    }
   ],
   "source": [
    "##These are the least performing 10 states in terms of sales in the superstore\n",
    "b = States_sales_df.sort_values(ascending=False)[-10:]\n",
    "print(b)"
   ]
  },
  {
   "cell_type": "code",
   "execution_count": 14,
   "metadata": {
    "scrolled": true
   },
   "outputs": [
    {
     "data": {
      "text/html": [
       "<div>\n",
       "<style scoped>\n",
       "    .dataframe tbody tr th:only-of-type {\n",
       "        vertical-align: middle;\n",
       "    }\n",
       "\n",
       "    .dataframe tbody tr th {\n",
       "        vertical-align: top;\n",
       "    }\n",
       "\n",
       "    .dataframe thead th {\n",
       "        text-align: right;\n",
       "    }\n",
       "</style>\n",
       "<table border=\"1\" class=\"dataframe\">\n",
       "  <thead>\n",
       "    <tr style=\"text-align: right;\">\n",
       "      <th></th>\n",
       "      <th>State</th>\n",
       "      <th>Category</th>\n",
       "      <th>Sales</th>\n",
       "    </tr>\n",
       "  </thead>\n",
       "  <tbody>\n",
       "    <tr>\n",
       "      <th>0</th>\n",
       "      <td>Alabama</td>\n",
       "      <td>Furniture</td>\n",
       "      <td>6332.480</td>\n",
       "    </tr>\n",
       "    <tr>\n",
       "      <th>1</th>\n",
       "      <td>Alabama</td>\n",
       "      <td>Office Supplies</td>\n",
       "      <td>4209.080</td>\n",
       "    </tr>\n",
       "    <tr>\n",
       "      <th>2</th>\n",
       "      <td>Alabama</td>\n",
       "      <td>Technology</td>\n",
       "      <td>8969.080</td>\n",
       "    </tr>\n",
       "    <tr>\n",
       "      <th>3</th>\n",
       "      <td>Arizona</td>\n",
       "      <td>Furniture</td>\n",
       "      <td>13525.291</td>\n",
       "    </tr>\n",
       "    <tr>\n",
       "      <th>4</th>\n",
       "      <td>Arizona</td>\n",
       "      <td>Office Supplies</td>\n",
       "      <td>10005.825</td>\n",
       "    </tr>\n",
       "    <tr>\n",
       "      <th>...</th>\n",
       "      <td>...</td>\n",
       "      <td>...</td>\n",
       "      <td>...</td>\n",
       "    </tr>\n",
       "    <tr>\n",
       "      <th>137</th>\n",
       "      <td>West Virginia</td>\n",
       "      <td>Office Supplies</td>\n",
       "      <td>536.480</td>\n",
       "    </tr>\n",
       "    <tr>\n",
       "      <th>138</th>\n",
       "      <td>Wisconsin</td>\n",
       "      <td>Furniture</td>\n",
       "      <td>17256.610</td>\n",
       "    </tr>\n",
       "    <tr>\n",
       "      <th>139</th>\n",
       "      <td>Wisconsin</td>\n",
       "      <td>Office Supplies</td>\n",
       "      <td>6059.840</td>\n",
       "    </tr>\n",
       "    <tr>\n",
       "      <th>140</th>\n",
       "      <td>Wisconsin</td>\n",
       "      <td>Technology</td>\n",
       "      <td>8798.160</td>\n",
       "    </tr>\n",
       "    <tr>\n",
       "      <th>141</th>\n",
       "      <td>Wyoming</td>\n",
       "      <td>Furniture</td>\n",
       "      <td>1603.136</td>\n",
       "    </tr>\n",
       "  </tbody>\n",
       "</table>\n",
       "<p>142 rows × 3 columns</p>\n",
       "</div>"
      ],
      "text/plain": [
       "             State         Category      Sales\n",
       "0          Alabama        Furniture   6332.480\n",
       "1          Alabama  Office Supplies   4209.080\n",
       "2          Alabama       Technology   8969.080\n",
       "3          Arizona        Furniture  13525.291\n",
       "4          Arizona  Office Supplies  10005.825\n",
       "..             ...              ...        ...\n",
       "137  West Virginia  Office Supplies    536.480\n",
       "138      Wisconsin        Furniture  17256.610\n",
       "139      Wisconsin  Office Supplies   6059.840\n",
       "140      Wisconsin       Technology   8798.160\n",
       "141        Wyoming        Furniture   1603.136\n",
       "\n",
       "[142 rows x 3 columns]"
      ]
     },
     "execution_count": 14,
     "metadata": {},
     "output_type": "execute_result"
    }
   ],
   "source": [
    "##Grouping the states and Category to get the sales across the category\n",
    "a_df = df.groupby(['State','Category'])['Sales'].sum().reset_index()\n",
    "a_df\n"
   ]
  },
  {
   "cell_type": "code",
   "execution_count": 15,
   "metadata": {},
   "outputs": [
    {
     "name": "stdout",
     "output_type": "stream",
     "text": [
      "       State   Category     Sales\n",
      "141  Wyoming  Furniture  1603.136\n"
     ]
    }
   ],
   "source": [
    "Wyoming_df =  a_df[(a_df['State'] == 'Wyoming')]\n",
    "print(Wyoming_df)"
   ]
  },
  {
   "cell_type": "markdown",
   "metadata": {},
   "source": [
    "One of the reasons Wyoming fall in least sales category is because it has no Office Supplies and Technology category sales. They are totally absent, meaning there could be no desk and technology related jobs in that state."
   ]
  },
  {
   "cell_type": "code",
   "execution_count": 16,
   "metadata": {},
   "outputs": [
    {
     "data": {
      "text/html": [
       "<div>\n",
       "<style scoped>\n",
       "    .dataframe tbody tr th:only-of-type {\n",
       "        vertical-align: middle;\n",
       "    }\n",
       "\n",
       "    .dataframe tbody tr th {\n",
       "        vertical-align: top;\n",
       "    }\n",
       "\n",
       "    .dataframe thead th {\n",
       "        text-align: right;\n",
       "    }\n",
       "</style>\n",
       "<table border=\"1\" class=\"dataframe\">\n",
       "  <thead>\n",
       "    <tr style=\"text-align: right;\">\n",
       "      <th></th>\n",
       "      <th>State</th>\n",
       "      <th>Category</th>\n",
       "      <th>Sales</th>\n",
       "    </tr>\n",
       "  </thead>\n",
       "  <tbody>\n",
       "    <tr>\n",
       "      <th>9</th>\n",
       "      <td>California</td>\n",
       "      <td>Furniture</td>\n",
       "      <td>156064.6015</td>\n",
       "    </tr>\n",
       "    <tr>\n",
       "      <th>10</th>\n",
       "      <td>California</td>\n",
       "      <td>Office Supplies</td>\n",
       "      <td>142351.9480</td>\n",
       "    </tr>\n",
       "    <tr>\n",
       "      <th>11</th>\n",
       "      <td>California</td>\n",
       "      <td>Technology</td>\n",
       "      <td>159271.0820</td>\n",
       "    </tr>\n",
       "    <tr>\n",
       "      <th>90</th>\n",
       "      <td>New York</td>\n",
       "      <td>Furniture</td>\n",
       "      <td>93372.7290</td>\n",
       "    </tr>\n",
       "    <tr>\n",
       "      <th>91</th>\n",
       "      <td>New York</td>\n",
       "      <td>Office Supplies</td>\n",
       "      <td>90020.0420</td>\n",
       "    </tr>\n",
       "    <tr>\n",
       "      <th>92</th>\n",
       "      <td>New York</td>\n",
       "      <td>Technology</td>\n",
       "      <td>127483.5000</td>\n",
       "    </tr>\n",
       "    <tr>\n",
       "      <th>106</th>\n",
       "      <td>Pennsylvania</td>\n",
       "      <td>Furniture</td>\n",
       "      <td>39354.9310</td>\n",
       "    </tr>\n",
       "    <tr>\n",
       "      <th>107</th>\n",
       "      <td>Pennsylvania</td>\n",
       "      <td>Office Supplies</td>\n",
       "      <td>34941.7140</td>\n",
       "    </tr>\n",
       "    <tr>\n",
       "      <th>108</th>\n",
       "      <td>Pennsylvania</td>\n",
       "      <td>Technology</td>\n",
       "      <td>42215.2690</td>\n",
       "    </tr>\n",
       "    <tr>\n",
       "      <th>121</th>\n",
       "      <td>Texas</td>\n",
       "      <td>Furniture</td>\n",
       "      <td>60593.2918</td>\n",
       "    </tr>\n",
       "    <tr>\n",
       "      <th>122</th>\n",
       "      <td>Texas</td>\n",
       "      <td>Office Supplies</td>\n",
       "      <td>44490.5300</td>\n",
       "    </tr>\n",
       "    <tr>\n",
       "      <th>123</th>\n",
       "      <td>Texas</td>\n",
       "      <td>Technology</td>\n",
       "      <td>65104.2240</td>\n",
       "    </tr>\n",
       "    <tr>\n",
       "      <th>133</th>\n",
       "      <td>Washington</td>\n",
       "      <td>Furniture</td>\n",
       "      <td>48020.1520</td>\n",
       "    </tr>\n",
       "    <tr>\n",
       "      <th>134</th>\n",
       "      <td>Washington</td>\n",
       "      <td>Office Supplies</td>\n",
       "      <td>40084.4080</td>\n",
       "    </tr>\n",
       "    <tr>\n",
       "      <th>135</th>\n",
       "      <td>Washington</td>\n",
       "      <td>Technology</td>\n",
       "      <td>50536.7100</td>\n",
       "    </tr>\n",
       "  </tbody>\n",
       "</table>\n",
       "</div>"
      ],
      "text/plain": [
       "            State         Category        Sales\n",
       "9      California        Furniture  156064.6015\n",
       "10     California  Office Supplies  142351.9480\n",
       "11     California       Technology  159271.0820\n",
       "90       New York        Furniture   93372.7290\n",
       "91       New York  Office Supplies   90020.0420\n",
       "92       New York       Technology  127483.5000\n",
       "106  Pennsylvania        Furniture   39354.9310\n",
       "107  Pennsylvania  Office Supplies   34941.7140\n",
       "108  Pennsylvania       Technology   42215.2690\n",
       "121         Texas        Furniture   60593.2918\n",
       "122         Texas  Office Supplies   44490.5300\n",
       "123         Texas       Technology   65104.2240\n",
       "133    Washington        Furniture   48020.1520\n",
       "134    Washington  Office Supplies   40084.4080\n",
       "135    Washington       Technology   50536.7100"
      ]
     },
     "execution_count": 16,
     "metadata": {},
     "output_type": "execute_result"
    }
   ],
   "source": [
    "##From the above dataframe we are filtering/subsetting the sales across the three categories\n",
    "##for top 5 best sales performing states.\n",
    "best_df = a_df[(a_df['State'] == 'California') | (a_df['State'] == 'New York') | (a_df['State'] == 'Washington') | (a_df['State'] == 'Pennsylvania') | (a_df['State'] == 'Texas')]\n",
    "best_df"
   ]
  },
  {
   "cell_type": "code",
   "execution_count": 17,
   "metadata": {},
   "outputs": [
    {
     "data": {
      "text/html": [
       "<div>\n",
       "<style scoped>\n",
       "    .dataframe tbody tr th:only-of-type {\n",
       "        vertical-align: middle;\n",
       "    }\n",
       "\n",
       "    .dataframe tbody tr th {\n",
       "        vertical-align: top;\n",
       "    }\n",
       "\n",
       "    .dataframe thead th {\n",
       "        text-align: right;\n",
       "    }\n",
       "</style>\n",
       "<table border=\"1\" class=\"dataframe\">\n",
       "  <thead>\n",
       "    <tr style=\"text-align: right;\">\n",
       "      <th></th>\n",
       "      <th>State</th>\n",
       "      <th>Category</th>\n",
       "      <th>Sales</th>\n",
       "    </tr>\n",
       "  </thead>\n",
       "  <tbody>\n",
       "    <tr>\n",
       "      <th>51</th>\n",
       "      <td>Maine</td>\n",
       "      <td>Furniture</td>\n",
       "      <td>109.480</td>\n",
       "    </tr>\n",
       "    <tr>\n",
       "      <th>52</th>\n",
       "      <td>Maine</td>\n",
       "      <td>Office Supplies</td>\n",
       "      <td>399.800</td>\n",
       "    </tr>\n",
       "    <tr>\n",
       "      <th>53</th>\n",
       "      <td>Maine</td>\n",
       "      <td>Technology</td>\n",
       "      <td>761.250</td>\n",
       "    </tr>\n",
       "    <tr>\n",
       "      <th>96</th>\n",
       "      <td>North Dakota</td>\n",
       "      <td>Office Supplies</td>\n",
       "      <td>919.910</td>\n",
       "    </tr>\n",
       "    <tr>\n",
       "      <th>115</th>\n",
       "      <td>South Dakota</td>\n",
       "      <td>Furniture</td>\n",
       "      <td>324.900</td>\n",
       "    </tr>\n",
       "    <tr>\n",
       "      <th>116</th>\n",
       "      <td>South Dakota</td>\n",
       "      <td>Office Supplies</td>\n",
       "      <td>597.720</td>\n",
       "    </tr>\n",
       "    <tr>\n",
       "      <th>117</th>\n",
       "      <td>South Dakota</td>\n",
       "      <td>Technology</td>\n",
       "      <td>392.940</td>\n",
       "    </tr>\n",
       "    <tr>\n",
       "      <th>136</th>\n",
       "      <td>West Virginia</td>\n",
       "      <td>Furniture</td>\n",
       "      <td>673.344</td>\n",
       "    </tr>\n",
       "    <tr>\n",
       "      <th>137</th>\n",
       "      <td>West Virginia</td>\n",
       "      <td>Office Supplies</td>\n",
       "      <td>536.480</td>\n",
       "    </tr>\n",
       "    <tr>\n",
       "      <th>141</th>\n",
       "      <td>Wyoming</td>\n",
       "      <td>Furniture</td>\n",
       "      <td>1603.136</td>\n",
       "    </tr>\n",
       "  </tbody>\n",
       "</table>\n",
       "</div>"
      ],
      "text/plain": [
       "             State         Category     Sales\n",
       "51           Maine        Furniture   109.480\n",
       "52           Maine  Office Supplies   399.800\n",
       "53           Maine       Technology   761.250\n",
       "96    North Dakota  Office Supplies   919.910\n",
       "115   South Dakota        Furniture   324.900\n",
       "116   South Dakota  Office Supplies   597.720\n",
       "117   South Dakota       Technology   392.940\n",
       "136  West Virginia        Furniture   673.344\n",
       "137  West Virginia  Office Supplies   536.480\n",
       "141        Wyoming        Furniture  1603.136"
      ]
     },
     "execution_count": 17,
     "metadata": {},
     "output_type": "execute_result"
    }
   ],
   "source": [
    "least_sales_df = a_df[(a_df['State'] == 'Wyoming') | (a_df['State'] == 'South Dakota') | (a_df['State'] == 'Maine') | (a_df['State'] == 'West Virginia') | (a_df['State'] == 'North Dakota')]\n",
    "least_sales_df"
   ]
  },
  {
   "cell_type": "markdown",
   "metadata": {},
   "source": [
    "# Data Visualization"
   ]
  },
  {
   "cell_type": "code",
   "execution_count": 18,
   "metadata": {},
   "outputs": [
    {
     "data": {
      "text/plain": [
       "<AxesSubplot:xlabel='State', ylabel='Sales'>"
      ]
     },
     "execution_count": 18,
     "metadata": {},
     "output_type": "execute_result"
    },
    {
     "data": {
      "image/png": "[encoded data removed]",
      "text/plain": [
       "<Figure size 576x576 with 1 Axes>"
      ]
     },
     "metadata": {},
     "output_type": "display_data"
    }
   ],
   "source": [
    "import matplotlib.pyplot as plt\n",
    "import seaborn as sns\n",
    "sns.set(style=\"darkgrid\")\n",
    "plt.figure(figsize=(8, 8))\n",
    "sns.barplot(x=\"State\", y=\"Sales\", hue=\"Category\", data=best_df) #----> Plotting sales across categories for top 5 states interms of sales"
   ]
  },
  {
   "cell_type": "code",
   "execution_count": 19,
   "metadata": {},
   "outputs": [
    {
     "data": {
      "text/plain": [
       "<AxesSubplot:xlabel='State', ylabel='Sales'>"
      ]
     },
     "execution_count": 19,
     "metadata": {},
     "output_type": "execute_result"
    },
    {
     "data": {
      "image/png": "[encoded data removed]",
      "text/plain": [
       "<Figure size 576x576 with 1 Axes>"
      ]
     },
     "metadata": {},
     "output_type": "display_data"
    }
   ],
   "source": [
    "sns.set(style=\"darkgrid\")\n",
    "plt.figure(figsize=(8, 8))\n",
    "sns.barplot(x=\"State\", y=\"Sales\", hue=\"Category\", data=least_sales_df) #----> Plotting sales across categories for least performing states interms of sales"
   ]
  },
  {
   "cell_type": "markdown",
   "metadata": {},
   "source": [
    "As per the above graph we can see that North Dakota has Zero furniture and technology sales. Also, West Virginia has Zero Technology sales and Wyoming has Zero Technology and Office Supplies sales. This explains why they fall in the least 5 states with sales.  "
   ]
  },
  {
   "cell_type": "markdown",
   "metadata": {},
   "source": [
    "So, lets look into the next 5 states and see why they are peforming low on sales."
   ]
  },
  {
   "cell_type": "code",
   "execution_count": 20,
   "metadata": {},
   "outputs": [
    {
     "data": {
      "text/html": [
       "<div>\n",
       "<style scoped>\n",
       "    .dataframe tbody tr th:only-of-type {\n",
       "        vertical-align: middle;\n",
       "    }\n",
       "\n",
       "    .dataframe tbody tr th {\n",
       "        vertical-align: top;\n",
       "    }\n",
       "\n",
       "    .dataframe thead th {\n",
       "        text-align: right;\n",
       "    }\n",
       "</style>\n",
       "<table border=\"1\" class=\"dataframe\">\n",
       "  <thead>\n",
       "    <tr style=\"text-align: right;\">\n",
       "      <th></th>\n",
       "      <th>State</th>\n",
       "      <th>Category</th>\n",
       "      <th>Sales</th>\n",
       "    </tr>\n",
       "  </thead>\n",
       "  <tbody>\n",
       "    <tr>\n",
       "      <th>21</th>\n",
       "      <td>District of Columbia</td>\n",
       "      <td>Furniture</td>\n",
       "      <td>1346.580</td>\n",
       "    </tr>\n",
       "    <tr>\n",
       "      <th>22</th>\n",
       "      <td>District of Columbia</td>\n",
       "      <td>Office Supplies</td>\n",
       "      <td>138.520</td>\n",
       "    </tr>\n",
       "    <tr>\n",
       "      <th>23</th>\n",
       "      <td>District of Columbia</td>\n",
       "      <td>Technology</td>\n",
       "      <td>1379.920</td>\n",
       "    </tr>\n",
       "    <tr>\n",
       "      <th>30</th>\n",
       "      <td>Idaho</td>\n",
       "      <td>Furniture</td>\n",
       "      <td>2595.482</td>\n",
       "    </tr>\n",
       "    <tr>\n",
       "      <th>31</th>\n",
       "      <td>Idaho</td>\n",
       "      <td>Office Supplies</td>\n",
       "      <td>949.506</td>\n",
       "    </tr>\n",
       "    <tr>\n",
       "      <th>32</th>\n",
       "      <td>Idaho</td>\n",
       "      <td>Technology</td>\n",
       "      <td>837.498</td>\n",
       "    </tr>\n",
       "    <tr>\n",
       "      <th>39</th>\n",
       "      <td>Iowa</td>\n",
       "      <td>Furniture</td>\n",
       "      <td>2642.310</td>\n",
       "    </tr>\n",
       "    <tr>\n",
       "      <th>40</th>\n",
       "      <td>Iowa</td>\n",
       "      <td>Office Supplies</td>\n",
       "      <td>783.150</td>\n",
       "    </tr>\n",
       "    <tr>\n",
       "      <th>41</th>\n",
       "      <td>Iowa</td>\n",
       "      <td>Technology</td>\n",
       "      <td>1154.300</td>\n",
       "    </tr>\n",
       "    <tr>\n",
       "      <th>42</th>\n",
       "      <td>Kansas</td>\n",
       "      <td>Furniture</td>\n",
       "      <td>111.120</td>\n",
       "    </tr>\n",
       "    <tr>\n",
       "      <th>43</th>\n",
       "      <td>Kansas</td>\n",
       "      <td>Office Supplies</td>\n",
       "      <td>1954.150</td>\n",
       "    </tr>\n",
       "    <tr>\n",
       "      <th>44</th>\n",
       "      <td>Kansas</td>\n",
       "      <td>Technology</td>\n",
       "      <td>849.040</td>\n",
       "    </tr>\n",
       "    <tr>\n",
       "      <th>87</th>\n",
       "      <td>New Mexico</td>\n",
       "      <td>Furniture</td>\n",
       "      <td>1701.412</td>\n",
       "    </tr>\n",
       "    <tr>\n",
       "      <th>88</th>\n",
       "      <td>New Mexico</td>\n",
       "      <td>Office Supplies</td>\n",
       "      <td>1384.182</td>\n",
       "    </tr>\n",
       "    <tr>\n",
       "      <th>89</th>\n",
       "      <td>New Mexico</td>\n",
       "      <td>Technology</td>\n",
       "      <td>1697.928</td>\n",
       "    </tr>\n",
       "  </tbody>\n",
       "</table>\n",
       "</div>"
      ],
      "text/plain": [
       "                   State         Category     Sales\n",
       "21  District of Columbia        Furniture  1346.580\n",
       "22  District of Columbia  Office Supplies   138.520\n",
       "23  District of Columbia       Technology  1379.920\n",
       "30                 Idaho        Furniture  2595.482\n",
       "31                 Idaho  Office Supplies   949.506\n",
       "32                 Idaho       Technology   837.498\n",
       "39                  Iowa        Furniture  2642.310\n",
       "40                  Iowa  Office Supplies   783.150\n",
       "41                  Iowa       Technology  1154.300\n",
       "42                Kansas        Furniture   111.120\n",
       "43                Kansas  Office Supplies  1954.150\n",
       "44                Kansas       Technology   849.040\n",
       "87            New Mexico        Furniture  1701.412\n",
       "88            New Mexico  Office Supplies  1384.182\n",
       "89            New Mexico       Technology  1697.928"
      ]
     },
     "execution_count": 20,
     "metadata": {},
     "output_type": "execute_result"
    }
   ],
   "source": [
    "least_sales_df2 = a_df[(a_df['State'] == 'New Mexico') | (a_df['State'] == 'Iowa') | (a_df['State'] == 'Idaho') | (a_df['State'] == 'Kansas') | (a_df['State'] == 'District of Columbia')]\n",
    "least_sales_df2"
   ]
  },
  {
   "cell_type": "code",
   "execution_count": 21,
   "metadata": {},
   "outputs": [
    {
     "data": {
      "text/plain": [
       "<AxesSubplot:xlabel='State', ylabel='Sales'>"
      ]
     },
     "execution_count": 21,
     "metadata": {},
     "output_type": "execute_result"
    },
    {
     "data": {
      "image/png": "[encoded data removed]",
      "text/plain": [
       "<Figure size 576x576 with 1 Axes>"
      ]
     },
     "metadata": {},
     "output_type": "display_data"
    }
   ],
   "source": [
    "sns.set(style=\"darkgrid\")\n",
    "plt.figure(figsize=(8, 8))\n",
    "sns.barplot(x=\"State\", y=\"Sales\", hue=\"Category\", data=least_sales_df2)"
   ]
  },
  {
   "cell_type": "markdown",
   "metadata": {},
   "source": [
    "# Conclusion"
   ]
  },
  {
   "cell_type": "markdown",
   "metadata": {},
   "source": [
    "##After the analysis, we get the top 5 best performing states in terms of sales: California, New York, Texas, Washington and Pennsylvania\n",
    "##Average Sales in the superstore chain is $46881. There are 13 states above this benchmark and 36 states below this benchmark\n",
    "## The manager needs to focus on these 36 states to improve their peformance.\n",
    "##The last five states in terms of sales are: Maine, North Dakota, South Dakota, West Virginia and Wyoming.\n",
    "##The reason for their least performance is three states has few category sales missing. Ex: Wyoming has only Furniture category sales\n",
    "##and Technology and office supplies sales missing. So, the business manager need to focus on starting up sales in these states and categories.\n",
    "##To improve the store performance, the manager need to fill-in the gap among the sales in the three categories of all the states except the top 2 states.\n"
   ]
  }
 ],
 "metadata": {
  "kernelspec": {
   "display_name": "Python 3",
   "language": "python",
   "name": "python3"
  },
  "language_info": {
   "codemirror_mode": {
    "name": "ipython",
    "version": 3
   },
   "file_extension": ".py",
   "mimetype": "text/x-python",
   "name": "python",
   "nbconvert_exporter": "python",
   "pygments_lexer": "ipython3",
   "version": "3.8.5"
  }
 },
 "nbformat": 4,
 "nbformat_minor": 4
}
